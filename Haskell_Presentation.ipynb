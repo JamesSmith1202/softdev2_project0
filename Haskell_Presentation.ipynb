{
 "cells": [
  {
   "cell_type": "markdown",
   "metadata": {},
   "source": [
    "# Lazy But Functional - An Introduction to Haskell \n",
    "##### By James Smith & Angel Ng\n",
    "\n",
    "## What is Haskell?\n",
    "Haskell is a polymorphically statically typed, lazy, purely functional language.\n",
    "\n",
    "Lazy: Expressions are not evaluated when they are bound to variables, but their evaluation is deferred until their results are needed by other computations.\n",
    "\n",
    "## Brief History\n",
    " - 1930s: Alonzo Church devised a mathematical model of functions called lambda calculus\n",
    " - 1950s: LISP, one of the first high level languages was invented. It allowed user functions to be defined, and passed around as values.\n",
    " - 1980s: Researchers were inventing and extending many functional programming languages, but the research was fragmented across many different languages, most of which were not open source. I committee was formed to remedy this issue...\n",
    " - 1990: Haskell was born!\n",
    " \n",
    "\n",
    "| Pros | Cons   |\n",
    "|------|------|\n",
    "| Produces high performance executables  | Hard to learn from a traditional CS education |\n",
    "| Excels at parallelism | Haskell cannot be used for android or Iphone development |\n",
    "| Flexible type system that supports type inference | Camel Case |\n",
    "| Lazy evaluation | |\n",
    "| Strict compiler | |\n",
    "| Quick Check (OG) | |\n",
    "| Easy to read | |\n",
    "| Advanced mathematical abstraction |\n"
   ]
  },
  {
   "cell_type": "markdown",
   "metadata": {},
   "source": [
    "## Importing Hackages\n",
    "`import <hackage>`\n",
    "\n",
    "##### Data.List - Provides list operations\n",
    "\n",
    "##### System.IO - Standard IO library"
   ]
  },
  {
   "cell_type": "code",
   "execution_count": null,
   "metadata": {},
   "outputs": [],
   "source": [
    "import Data.List\n",
    "import System.IO"
   ]
  },
  {
   "cell_type": "markdown",
   "metadata": {},
   "source": [
    "## Data Types\n",
    "\n",
    "- Int - -2^63 to 2^63\n",
    "- Integer - Infinite bounds(numbers potentially as large as your memory)\n",
    "- Floats\n",
    "- Doubles\n",
    "- Bool\n",
    "- Char\n",
    "- Tuple\n",
    "\n",
    "## Functions and quirks(will organize later)"
   ]
  },
  {
   "cell_type": "code",
   "execution_count": null,
   "metadata": {},
   "outputs": [],
   "source": [
    "mod 5 4 -- or use backticks on prefix operator to make it infix\n",
    "5 `mod` 4"
   ]
  },
  {
   "cell_type": "code",
   "execution_count": null,
   "metadata": {},
   "outputs": [],
   "source": [
    "-- :t <function> -> type outline\n",
    ":t sqrt\n",
    "\n",
    "num = 9 :: Int -- 9 is an int, but sqrt only accepts Floating...\n",
    "sqrt (fromIntegral num)"
   ]
  },
  {
   "cell_type": "code",
   "execution_count": null,
   "metadata": {},
   "outputs": [],
   "source": [
    "pi\n",
    "exp 9\n",
    "log 9\n",
    "3 ** 2\n",
    "truncate 9.5748\n",
    "round 9.89\n",
    "ceiling 9.9\n",
    "floor 8.9999\n",
    "sin 20"
   ]
  },
  {
   "cell_type": "markdown",
   "metadata": {},
   "source": [
    "## Lists"
   ]
  },
  {
   "cell_type": "code",
   "execution_count": null,
   "metadata": {},
   "outputs": [],
   "source": [
    "myList = [1, 2, 3]\n",
    "myList2 = myList ++ [4, 5]\n",
    "myList2\n",
    ":t (++)"
   ]
  },
  {
   "cell_type": "code",
   "execution_count": null,
   "metadata": {},
   "outputs": [],
   "source": [
    "myList3 = 1 : 2 : 3 : 4 : 5 : 6 : []\n",
    "myList3"
   ]
  },
  {
   "cell_type": "code",
   "execution_count": null,
   "metadata": {},
   "outputs": [],
   "source": [
    "length myList3"
   ]
  },
  {
   "cell_type": "code",
   "execution_count": null,
   "metadata": {},
   "outputs": [],
   "source": [
    "reverse myList3"
   ]
  },
  {
   "cell_type": "code",
   "execution_count": null,
   "metadata": {},
   "outputs": [],
   "source": [
    "myEmptyList = []\n",
    "null myList3\n",
    "null myEmptyList"
   ]
  },
  {
   "cell_type": "code",
   "execution_count": null,
   "metadata": {},
   "outputs": [],
   "source": [
    "thirdIndex = myList3 !! 3"
   ]
  },
  {
   "cell_type": "code",
   "execution_count": null,
   "metadata": {},
   "outputs": [],
   "source": [
    "myList3\n",
    "head myList3\n",
    "tail myList3 -- everything but head\n",
    "last myList3\n",
    "init myList3 -- everything but last\n",
    "take 4 myList3 -- takes the first n elements\n",
    "drop 4 myList3 -- removes the first n elements\n",
    "7 `elem` myList3 -- prefix. checks if an item is in the list\n",
    "myList3"
   ]
  },
  {
   "cell_type": "code",
   "execution_count": null,
   "metadata": {},
   "outputs": [],
   "source": [
    "l = [1, 3, 5]\n",
    "multipliedList = product l\n",
    "summedList = sum l\n",
    "multipliedList\n",
    "summedList"
   ]
  },
  {
   "cell_type": "code",
   "execution_count": null,
   "metadata": {},
   "outputs": [],
   "source": [
    "oneToHundred = [1..100]\n",
    "oneToHundred"
   ]
  },
  {
   "cell_type": "code",
   "execution_count": null,
   "metadata": {},
   "outputs": [],
   "source": [
    "-- Pattern matching!\n",
    "evenNums = [0, 2..30] \n",
    "evenNums\n",
    "everyOtherLetter = ['a', 'c'..'z']\n",
    "everyOtherLetter"
   ]
  },
  {
   "cell_type": "code",
   "execution_count": null,
   "metadata": {},
   "outputs": [],
   "source": [
    "-- Will this break the computer?\n",
    "infiniteList = [1, 2..]"
   ]
  },
  {
   "cell_type": "markdown",
   "metadata": {},
   "source": [
    "This will not crash the program because it is a LAZY LANGUAGE.\n",
    "\n",
    "infiniteList will not be evaluated until it absolutely has to.\n",
    "\n",
    "ex. `print infiniteList` would break the program from overflow"
   ]
  },
  {
   "cell_type": "code",
   "execution_count": null,
   "metadata": {},
   "outputs": [],
   "source": [
    "infinite7s = repeat 7\n",
    "seven7s = take 7 infinite7s\n",
    "seven7s\n",
    "length seven7s\n",
    "\n",
    "--or\n",
    "\n",
    "ten8s = replicate 8 10\n",
    "ten8s\n",
    "length ten8s"
   ]
  },
  {
   "cell_type": "code",
   "execution_count": null,
   "metadata": {},
   "outputs": [],
   "source": [
    "cycleList = take 20 (cycle [0,1,2,3])\n",
    "cycleList"
   ]
  },
  {
   "cell_type": "code",
   "execution_count": null,
   "metadata": {},
   "outputs": [],
   "source": [
    "divisibleBy7 = [x | x <- [1..100], x `mod` 7 == 0]\n",
    "divisibleBy7\n",
    "\n",
    "myTimesTable = [[x * y | y <- [1..10]] | x <- [1..10]]\n",
    "myTimesTable"
   ]
  },
  {
   "cell_type": "code",
   "execution_count": null,
   "metadata": {},
   "outputs": [],
   "source": [
    "list1 = [1,2,3,4]\n",
    "list2 = [2,3,4,5,6]\n",
    "zipWith (+) list1 list2"
   ]
  },
  {
   "cell_type": "markdown",
   "metadata": {},
   "source": [
    "We could go on for days going over list functions in Haskell, but these are the integral basics\n",
    "\n",
    "## Declaring Functions in Haskell\n",
    "\n",
    "`__functionName__ :: TypeIn -> TypeOut\n",
    "__functionName__ parameter1 parameter2 ... = function code that returns a value`\n",
    "\n",
    "## Basic Functions"
   ]
  },
  {
   "cell_type": "code",
   "execution_count": null,
   "metadata": {},
   "outputs": [],
   "source": [
    "equalStrings :: [Char] -> [Char] -> Bool\n",
    "equalStrings [] [] = True\n",
    "equalStrings (x:xs) (y:ys) = x == y && equalStrings xs ys\n",
    "\n",
    "equalStrings \"house\" \"cat\"\n",
    "equalStrings \"rat\" \"rat\""
   ]
  },
  {
   "cell_type": "code",
   "execution_count": null,
   "metadata": {},
   "outputs": [],
   "source": [
    "batAverage :: Integer -> Integer -> String\n",
    "\n",
    "batAverage hits timesAtBat\n",
    "    | avg <= 0.200 = \"You are bad\"\n",
    "    | avg <= 0.400 = \"You aren't awful\"\n",
    "    | avg <= 0.600 = \"You are good\"\n",
    "    | otherwise = \"You are a pro\"\n",
    "    where avg = (fromIntegral hits)/(fromIntegral timesAtBat)\n",
    "    \n",
    "batAverage 1 10"
   ]
  },
  {
   "cell_type": "markdown",
   "metadata": {},
   "source": [
    "## The power of lazy programming and guarded recursion\n",
    "\n",
    "Below is a timing function that we will use to measure the approximate speed of a function(for a more accurate run time test, you should use the criterion hackage)"
   ]
  },
  {
   "cell_type": "code",
   "execution_count": null,
   "metadata": {},
   "outputs": [],
   "source": [
    "import Text.Printf\n",
    "import Control.Exception\n",
    "import System.CPUTime\n",
    " \n",
    "time :: IO t -> IO t\n",
    "time a = do\n",
    "    start <- getCPUTime\n",
    "    v <- a\n",
    "    end   <- getCPUTime\n",
    "    let diff = (fromIntegral (end - start)) / (10^12)\n",
    "    printf \"Computation time: %0.9f sec\\n\" (diff :: Double)\n",
    "    return v"
   ]
  },
  {
   "cell_type": "markdown",
   "metadata": {},
   "source": [
    "### The Fibonacci Sequence 2 ways"
   ]
  },
  {
   "cell_type": "code",
   "execution_count": null,
   "metadata": {},
   "outputs": [],
   "source": [
    "fib :: Integer -> Integer\n",
    "fib 0 = 1\n",
    "fib 1 = 1\n",
    "fib n = fib (n-1) + fib (n-2)\n",
    "\n",
    "\n",
    "--time $ fib 30 `seq` return()\n",
    "fib 30"
   ]
  },
  {
   "cell_type": "markdown",
   "metadata": {},
   "source": [
    "The algorithm above has a performance of ~1.6^n (golden ratio ^ n)\n",
    "\n",
    "We can generate the fibonacci sequence with a performance of O(n^2). How? Because unlike the naive model of generating numbers, haskell does not evaluate a series because it is lazy. When computing, it realizes that both n and (n-1) in the fibSeries have the dependency of (n-2), and thus only computes it once for both numbers"
   ]
  },
  {
   "cell_type": "code",
   "execution_count": null,
   "metadata": {},
   "outputs": [],
   "source": [
    "fibSeries :: [Integer]\n",
    "fibSeries = 1 : 1 : zipWith (+) fibSeries (tail fibSeries) --You have every number of the fibonacci sequence at your fingertips\n",
    "\n",
    "--time $ fibSeries !! 100000 `seq` return()\n",
    "fibSeries !! 100000"
   ]
  },
  {
   "cell_type": "markdown",
   "metadata": {},
   "source": [
    "## Passing functions to functions"
   ]
  },
  {
   "cell_type": "code",
   "execution_count": null,
   "metadata": {},
   "outputs": [],
   "source": [
    "divideFunction :: Double -> (Double -> Double)\n",
    "divideFunction x y = y / x\n",
    "\n",
    "divideBy20 = divideFunction 20\n",
    "\n",
    "divideBy20 60"
   ]
  },
  {
   "cell_type": "code",
   "execution_count": null,
   "metadata": {},
   "outputs": [],
   "source": [
    "myList = [20, 40, 60, 80]\n",
    "map divideBy20 myList"
   ]
  },
  {
   "cell_type": "code",
   "execution_count": null,
   "metadata": {},
   "outputs": [],
   "source": []
  }
 ],
 "metadata": {
  "kernelspec": {
   "display_name": "Haskell",
   "language": "haskell",
   "name": "haskell"
  },
  "language_info": {
   "codemirror_mode": "ihaskell",
   "file_extension": ".hs",
   "name": "haskell",
   "version": "8.2.2"
  }
 },
 "nbformat": 4,
 "nbformat_minor": 2
}
